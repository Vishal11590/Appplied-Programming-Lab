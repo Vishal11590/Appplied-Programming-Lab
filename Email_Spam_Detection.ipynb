{
  "nbformat": 4,
  "nbformat_minor": 0,
  "metadata": {
    "colab": {
      "provenance": [],
      "include_colab_link": true
    },
    "kernelspec": {
      "name": "python3",
      "display_name": "Python 3"
    },
    "language_info": {
      "name": "python"
    }
  },
  "cells": [
    {
      "cell_type": "markdown",
      "metadata": {
        "id": "view-in-github",
        "colab_type": "text"
      },
      "source": [
        "<a href=\"https://colab.research.google.com/github/Vishal11590/Appplied-Programming-Lab/blob/main/Email_Spam_Detection.ipynb\" target=\"_parent\"><img src=\"https://colab.research.google.com/assets/colab-badge.svg\" alt=\"Open In Colab\"/></a>"
      ]
    },
    {
      "cell_type": "markdown",
      "source": [
        "# Import Libraries"
      ],
      "metadata": {
        "id": "kZOHt10jmRb3"
      }
    },
    {
      "cell_type": "markdown",
      "source": [
        "<div align = \"right\"><i>VIshal, Dec - 2024</i></div>\n",
        "\n",
        "# **Email Spam Detection** - Using Machine Learning Algorithms\n",
        "\n",
        "**Abstract**:\n",
        "\n",
        "Email spam is a growing issue due to more people using the internet. Spammers send fake emails for fraud, phishing, and spreading harmful links. They create fake profiles and trick people who are not aware of such scams.\n",
        "\n",
        "To solve this, we can use machine learning to detect spam emails. Different algorithms will be tested, and the best one will be chosen based on few evaluation metrics. This helps keep email users safe from scams and fraud.\n"
      ],
      "metadata": {
        "id": "EKuL6dtngZOe"
      }
    },
    {
      "cell_type": "code",
      "source": [
        "import sys\n",
        "import re\n",
        "import pandas as pd\n",
        "import numpy as np\n",
        "import string\n",
        "from collections import Counter, defaultdict\n",
        "from wordcloud import STOPWORDS\n",
        "import matplotlib.pyplot as plt\n",
        "from imblearn.over_sampling import SMOTE\n",
        "import warnings\n",
        "warnings.filterwarnings('ignore')"
      ],
      "metadata": {
        "id": "88ZLLaBllktO"
      },
      "execution_count": null,
      "outputs": []
    },
    {
      "cell_type": "markdown",
      "source": [
        "# Understanding the Dataset\n",
        "\n",
        "The dataset has two columns:\n",
        "1. **Message**: This column contains the text of the email.\n",
        "2. **Label**: This column shows whether the message is \"spam\" (unwanted email) or \"ham\" (regular email)."
      ],
      "metadata": {
        "id": "cphQ0saciy1q"
      }
    },
    {
      "cell_type": "markdown",
      "source": [
        "## Data Loading\n"
      ],
      "metadata": {
        "id": "0deSSMwjnhnZ"
      }
    },
    {
      "cell_type": "code",
      "source": [
        "data = pd.read_csv(\"/content/training_data.csv\", encoding = \"ISO-8859-1\") # Training Data"
      ],
      "metadata": {
        "id": "b8L6-TEGnf1a"
      },
      "execution_count": null,
      "outputs": []
    },
    {
      "cell_type": "markdown",
      "source": [
        "## Dataset Information"
      ],
      "metadata": {
        "id": "VGcxHUW9olC3"
      }
    },
    {
      "cell_type": "code",
      "source": [
        "data.info()"
      ],
      "metadata": {
        "colab": {
          "base_uri": "https://localhost:8080/"
        },
        "id": "BWWhwoALonvY",
        "outputId": "0164cd8a-c875-4058-e08f-4e292daa41c7"
      },
      "execution_count": null,
      "outputs": [
        {
          "output_type": "stream",
          "name": "stdout",
          "text": [
            "<class 'pandas.core.frame.DataFrame'>\n",
            "RangeIndex: 11298 entries, 0 to 11297\n",
            "Data columns (total 2 columns):\n",
            " #   Column   Non-Null Count  Dtype \n",
            "---  ------   --------------  ----- \n",
            " 0   label    11298 non-null  object\n",
            " 1   message  11298 non-null  object\n",
            "dtypes: object(2)\n",
            "memory usage: 176.7+ KB\n"
          ]
        }
      ]
    },
    {
      "cell_type": "markdown",
      "source": [
        "## Missing Values / Null Values"
      ],
      "metadata": {
        "id": "6ofmqNc4puUX"
      }
    },
    {
      "cell_type": "code",
      "source": [
        "data.isnull().sum()"
      ],
      "metadata": {
        "colab": {
          "base_uri": "https://localhost:8080/",
          "height": 146
        },
        "id": "iLeZf0d1ovr-",
        "outputId": "1f1d78f3-4b61-4fa0-c531-37e9ae0b713f"
      },
      "execution_count": null,
      "outputs": [
        {
          "output_type": "execute_result",
          "data": {
            "text/plain": [
              "label      0\n",
              "message    0\n",
              "dtype: int64"
            ],
            "text/html": [
              "<div>\n",
              "<style scoped>\n",
              "    .dataframe tbody tr th:only-of-type {\n",
              "        vertical-align: middle;\n",
              "    }\n",
              "\n",
              "    .dataframe tbody tr th {\n",
              "        vertical-align: top;\n",
              "    }\n",
              "\n",
              "    .dataframe thead th {\n",
              "        text-align: right;\n",
              "    }\n",
              "</style>\n",
              "<table border=\"1\" class=\"dataframe\">\n",
              "  <thead>\n",
              "    <tr style=\"text-align: right;\">\n",
              "      <th></th>\n",
              "      <th>0</th>\n",
              "    </tr>\n",
              "  </thead>\n",
              "  <tbody>\n",
              "    <tr>\n",
              "      <th>label</th>\n",
              "      <td>0</td>\n",
              "    </tr>\n",
              "    <tr>\n",
              "      <th>message</th>\n",
              "      <td>0</td>\n",
              "    </tr>\n",
              "  </tbody>\n",
              "</table>\n",
              "</div><br><label><b>dtype:</b> int64</label>"
            ]
          },
          "metadata": {},
          "execution_count": 4
        }
      ]
    },
    {
      "cell_type": "markdown",
      "source": [
        "## Duplicate Values"
      ],
      "metadata": {
        "id": "u8fQP0NXp9LQ"
      }
    },
    {
      "cell_type": "code",
      "source": [
        "data.duplicated().sum()"
      ],
      "metadata": {
        "colab": {
          "base_uri": "https://localhost:8080/"
        },
        "id": "V22IbN2ip4cU",
        "outputId": "a8bf561a-74e9-41e4-c75c-fae5f96bcd98"
      },
      "execution_count": null,
      "outputs": [
        {
          "output_type": "execute_result",
          "data": {
            "text/plain": [
              "599"
            ]
          },
          "metadata": {},
          "execution_count": 5
        }
      ]
    },
    {
      "cell_type": "markdown",
      "source": [
        "**Review on the Dataset**\n",
        "- No Null values in the dataset.\n",
        "- The dataset has 11298 entries, out of which 599 are repeated entries (it implies 11298 - 599 = 10699 unique entries)."
      ],
      "metadata": {
        "id": "mXlBVZyjqe3n"
      }
    },
    {
      "cell_type": "markdown",
      "source": [
        "# Data Preprocessing"
      ],
      "metadata": {
        "id": "MoWrZiForan7"
      }
    },
    {
      "cell_type": "code",
      "source": [
        "data.drop_duplicates(inplace = True) # Removal of Duplicate Entries"
      ],
      "metadata": {
        "id": "Z1kKWhzgB5FY"
      },
      "execution_count": null,
      "outputs": []
    },
    {
      "cell_type": "code",
      "source": [
        "# Create a binary 'spam' column: 1 for label == 'spam' else 0\n",
        "data['spam'] = data['label'].apply(lambda x: 1 if x == 'spam' else 0)"
      ],
      "metadata": {
        "id": "46Oe5Y_ysIZy"
      },
      "execution_count": null,
      "outputs": []
    },
    {
      "cell_type": "code",
      "source": [
        "data.head()"
      ],
      "metadata": {
        "colab": {
          "base_uri": "https://localhost:8080/",
          "height": 206
        },
        "id": "5Eot_FYFqC2E",
        "outputId": "3552ab9a-f219-4d1a-e2fb-e49f002bea27"
      },
      "execution_count": null,
      "outputs": [
        {
          "output_type": "execute_result",
          "data": {
            "text/plain": [
              "  label                                            message  spam\n",
              "0   ham  re : a friend of mine vince , thank you very m...     0\n",
              "1   ham  thank you dear dr . kaminsky : i want to thank...     0\n",
              "2   ham  flat screens hello , we are still in need of f...     0\n",
              "3   ham  Hello. They are going to the village pub at 8 ...     0\n",
              "4   ham  Are we doing the norm tomorrow? I finish just ...     0"
            ],
            "text/html": [
              "\n",
              "  <div id=\"df-7dbecfeb-741b-4d1c-9cfc-7323c7fe07b4\" class=\"colab-df-container\">\n",
              "    <div>\n",
              "<style scoped>\n",
              "    .dataframe tbody tr th:only-of-type {\n",
              "        vertical-align: middle;\n",
              "    }\n",
              "\n",
              "    .dataframe tbody tr th {\n",
              "        vertical-align: top;\n",
              "    }\n",
              "\n",
              "    .dataframe thead th {\n",
              "        text-align: right;\n",
              "    }\n",
              "</style>\n",
              "<table border=\"1\" class=\"dataframe\">\n",
              "  <thead>\n",
              "    <tr style=\"text-align: right;\">\n",
              "      <th></th>\n",
              "      <th>label</th>\n",
              "      <th>message</th>\n",
              "      <th>spam</th>\n",
              "    </tr>\n",
              "  </thead>\n",
              "  <tbody>\n",
              "    <tr>\n",
              "      <th>0</th>\n",
              "      <td>ham</td>\n",
              "      <td>re : a friend of mine vince , thank you very m...</td>\n",
              "      <td>0</td>\n",
              "    </tr>\n",
              "    <tr>\n",
              "      <th>1</th>\n",
              "      <td>ham</td>\n",
              "      <td>thank you dear dr . kaminsky : i want to thank...</td>\n",
              "      <td>0</td>\n",
              "    </tr>\n",
              "    <tr>\n",
              "      <th>2</th>\n",
              "      <td>ham</td>\n",
              "      <td>flat screens hello , we are still in need of f...</td>\n",
              "      <td>0</td>\n",
              "    </tr>\n",
              "    <tr>\n",
              "      <th>3</th>\n",
              "      <td>ham</td>\n",
              "      <td>Hello. They are going to the village pub at 8 ...</td>\n",
              "      <td>0</td>\n",
              "    </tr>\n",
              "    <tr>\n",
              "      <th>4</th>\n",
              "      <td>ham</td>\n",
              "      <td>Are we doing the norm tomorrow? I finish just ...</td>\n",
              "      <td>0</td>\n",
              "    </tr>\n",
              "  </tbody>\n",
              "</table>\n",
              "</div>\n",
              "    <div class=\"colab-df-buttons\">\n",
              "\n",
              "  <div class=\"colab-df-container\">\n",
              "    <button class=\"colab-df-convert\" onclick=\"convertToInteractive('df-7dbecfeb-741b-4d1c-9cfc-7323c7fe07b4')\"\n",
              "            title=\"Convert this dataframe to an interactive table.\"\n",
              "            style=\"display:none;\">\n",
              "\n",
              "  <svg xmlns=\"http://www.w3.org/2000/svg\" height=\"24px\" viewBox=\"0 -960 960 960\">\n",
              "    <path d=\"M120-120v-720h720v720H120Zm60-500h600v-160H180v160Zm220 220h160v-160H400v160Zm0 220h160v-160H400v160ZM180-400h160v-160H180v160Zm440 0h160v-160H620v160ZM180-180h160v-160H180v160Zm440 0h160v-160H620v160Z\"/>\n",
              "  </svg>\n",
              "    </button>\n",
              "\n",
              "  <style>\n",
              "    .colab-df-container {\n",
              "      display:flex;\n",
              "      gap: 12px;\n",
              "    }\n",
              "\n",
              "    .colab-df-convert {\n",
              "      background-color: #E8F0FE;\n",
              "      border: none;\n",
              "      border-radius: 50%;\n",
              "      cursor: pointer;\n",
              "      display: none;\n",
              "      fill: #1967D2;\n",
              "      height: 32px;\n",
              "      padding: 0 0 0 0;\n",
              "      width: 32px;\n",
              "    }\n",
              "\n",
              "    .colab-df-convert:hover {\n",
              "      background-color: #E2EBFA;\n",
              "      box-shadow: 0px 1px 2px rgba(60, 64, 67, 0.3), 0px 1px 3px 1px rgba(60, 64, 67, 0.15);\n",
              "      fill: #174EA6;\n",
              "    }\n",
              "\n",
              "    .colab-df-buttons div {\n",
              "      margin-bottom: 4px;\n",
              "    }\n",
              "\n",
              "    [theme=dark] .colab-df-convert {\n",
              "      background-color: #3B4455;\n",
              "      fill: #D2E3FC;\n",
              "    }\n",
              "\n",
              "    [theme=dark] .colab-df-convert:hover {\n",
              "      background-color: #434B5C;\n",
              "      box-shadow: 0px 1px 3px 1px rgba(0, 0, 0, 0.15);\n",
              "      filter: drop-shadow(0px 1px 2px rgba(0, 0, 0, 0.3));\n",
              "      fill: #FFFFFF;\n",
              "    }\n",
              "  </style>\n",
              "\n",
              "    <script>\n",
              "      const buttonEl =\n",
              "        document.querySelector('#df-7dbecfeb-741b-4d1c-9cfc-7323c7fe07b4 button.colab-df-convert');\n",
              "      buttonEl.style.display =\n",
              "        google.colab.kernel.accessAllowed ? 'block' : 'none';\n",
              "\n",
              "      async function convertToInteractive(key) {\n",
              "        const element = document.querySelector('#df-7dbecfeb-741b-4d1c-9cfc-7323c7fe07b4');\n",
              "        const dataTable =\n",
              "          await google.colab.kernel.invokeFunction('convertToInteractive',\n",
              "                                                    [key], {});\n",
              "        if (!dataTable) return;\n",
              "\n",
              "        const docLinkHtml = 'Like what you see? Visit the ' +\n",
              "          '<a target=\"_blank\" href=https://colab.research.google.com/notebooks/data_table.ipynb>data table notebook</a>'\n",
              "          + ' to learn more about interactive tables.';\n",
              "        element.innerHTML = '';\n",
              "        dataTable['output_type'] = 'display_data';\n",
              "        await google.colab.output.renderOutput(dataTable, element);\n",
              "        const docLink = document.createElement('div');\n",
              "        docLink.innerHTML = docLinkHtml;\n",
              "        element.appendChild(docLink);\n",
              "      }\n",
              "    </script>\n",
              "  </div>\n",
              "\n",
              "\n",
              "<div id=\"df-ad60b4c4-fb63-4dc1-94cf-de1e9ad0d5e2\">\n",
              "  <button class=\"colab-df-quickchart\" onclick=\"quickchart('df-ad60b4c4-fb63-4dc1-94cf-de1e9ad0d5e2')\"\n",
              "            title=\"Suggest charts\"\n",
              "            style=\"display:none;\">\n",
              "\n",
              "<svg xmlns=\"http://www.w3.org/2000/svg\" height=\"24px\"viewBox=\"0 0 24 24\"\n",
              "     width=\"24px\">\n",
              "    <g>\n",
              "        <path d=\"M19 3H5c-1.1 0-2 .9-2 2v14c0 1.1.9 2 2 2h14c1.1 0 2-.9 2-2V5c0-1.1-.9-2-2-2zM9 17H7v-7h2v7zm4 0h-2V7h2v10zm4 0h-2v-4h2v4z\"/>\n",
              "    </g>\n",
              "</svg>\n",
              "  </button>\n",
              "\n",
              "<style>\n",
              "  .colab-df-quickchart {\n",
              "      --bg-color: #E8F0FE;\n",
              "      --fill-color: #1967D2;\n",
              "      --hover-bg-color: #E2EBFA;\n",
              "      --hover-fill-color: #174EA6;\n",
              "      --disabled-fill-color: #AAA;\n",
              "      --disabled-bg-color: #DDD;\n",
              "  }\n",
              "\n",
              "  [theme=dark] .colab-df-quickchart {\n",
              "      --bg-color: #3B4455;\n",
              "      --fill-color: #D2E3FC;\n",
              "      --hover-bg-color: #434B5C;\n",
              "      --hover-fill-color: #FFFFFF;\n",
              "      --disabled-bg-color: #3B4455;\n",
              "      --disabled-fill-color: #666;\n",
              "  }\n",
              "\n",
              "  .colab-df-quickchart {\n",
              "    background-color: var(--bg-color);\n",
              "    border: none;\n",
              "    border-radius: 50%;\n",
              "    cursor: pointer;\n",
              "    display: none;\n",
              "    fill: var(--fill-color);\n",
              "    height: 32px;\n",
              "    padding: 0;\n",
              "    width: 32px;\n",
              "  }\n",
              "\n",
              "  .colab-df-quickchart:hover {\n",
              "    background-color: var(--hover-bg-color);\n",
              "    box-shadow: 0 1px 2px rgba(60, 64, 67, 0.3), 0 1px 3px 1px rgba(60, 64, 67, 0.15);\n",
              "    fill: var(--button-hover-fill-color);\n",
              "  }\n",
              "\n",
              "  .colab-df-quickchart-complete:disabled,\n",
              "  .colab-df-quickchart-complete:disabled:hover {\n",
              "    background-color: var(--disabled-bg-color);\n",
              "    fill: var(--disabled-fill-color);\n",
              "    box-shadow: none;\n",
              "  }\n",
              "\n",
              "  .colab-df-spinner {\n",
              "    border: 2px solid var(--fill-color);\n",
              "    border-color: transparent;\n",
              "    border-bottom-color: var(--fill-color);\n",
              "    animation:\n",
              "      spin 1s steps(1) infinite;\n",
              "  }\n",
              "\n",
              "  @keyframes spin {\n",
              "    0% {\n",
              "      border-color: transparent;\n",
              "      border-bottom-color: var(--fill-color);\n",
              "      border-left-color: var(--fill-color);\n",
              "    }\n",
              "    20% {\n",
              "      border-color: transparent;\n",
              "      border-left-color: var(--fill-color);\n",
              "      border-top-color: var(--fill-color);\n",
              "    }\n",
              "    30% {\n",
              "      border-color: transparent;\n",
              "      border-left-color: var(--fill-color);\n",
              "      border-top-color: var(--fill-color);\n",
              "      border-right-color: var(--fill-color);\n",
              "    }\n",
              "    40% {\n",
              "      border-color: transparent;\n",
              "      border-right-color: var(--fill-color);\n",
              "      border-top-color: var(--fill-color);\n",
              "    }\n",
              "    60% {\n",
              "      border-color: transparent;\n",
              "      border-right-color: var(--fill-color);\n",
              "    }\n",
              "    80% {\n",
              "      border-color: transparent;\n",
              "      border-right-color: var(--fill-color);\n",
              "      border-bottom-color: var(--fill-color);\n",
              "    }\n",
              "    90% {\n",
              "      border-color: transparent;\n",
              "      border-bottom-color: var(--fill-color);\n",
              "    }\n",
              "  }\n",
              "</style>\n",
              "\n",
              "  <script>\n",
              "    async function quickchart(key) {\n",
              "      const quickchartButtonEl =\n",
              "        document.querySelector('#' + key + ' button');\n",
              "      quickchartButtonEl.disabled = true;  // To prevent multiple clicks.\n",
              "      quickchartButtonEl.classList.add('colab-df-spinner');\n",
              "      try {\n",
              "        const charts = await google.colab.kernel.invokeFunction(\n",
              "            'suggestCharts', [key], {});\n",
              "      } catch (error) {\n",
              "        console.error('Error during call to suggestCharts:', error);\n",
              "      }\n",
              "      quickchartButtonEl.classList.remove('colab-df-spinner');\n",
              "      quickchartButtonEl.classList.add('colab-df-quickchart-complete');\n",
              "    }\n",
              "    (() => {\n",
              "      let quickchartButtonEl =\n",
              "        document.querySelector('#df-ad60b4c4-fb63-4dc1-94cf-de1e9ad0d5e2 button');\n",
              "      quickchartButtonEl.style.display =\n",
              "        google.colab.kernel.accessAllowed ? 'block' : 'none';\n",
              "    })();\n",
              "  </script>\n",
              "</div>\n",
              "\n",
              "    </div>\n",
              "  </div>\n"
            ],
            "application/vnd.google.colaboratory.intrinsic+json": {
              "type": "dataframe",
              "variable_name": "data",
              "summary": "{\n  \"name\": \"data\",\n  \"rows\": 10699,\n  \"fields\": [\n    {\n      \"column\": \"label\",\n      \"properties\": {\n        \"dtype\": \"category\",\n        \"num_unique_values\": 2,\n        \"samples\": [\n          \"spam\",\n          \"ham\"\n        ],\n        \"semantic_type\": \"\",\n        \"description\": \"\"\n      }\n    },\n    {\n      \"column\": \"message\",\n      \"properties\": {\n        \"dtype\": \"string\",\n        \"num_unique_values\": 10699,\n        \"samples\": [\n          \"Last Chance! Claim ur \\u00c3\\u0083\\u00c2\\u00a5\\u00c3\\u0082\\u00c2\\u00a3150 worth of discount vouchers today! Text SHOP to 85023 now! SavaMob, offers mobile! T Cs SavaMob POBOX84, M263UZ. \\u00c3\\u0083\\u00c2\\u00a5\\u00c3\\u0082\\u00c2\\u00a33.00 Sub. 16\",\n          \"Yar lor wait 4 my mum 2 finish sch then have lunch lor... I whole morning stay at home clean my room now my room quite clean... Hee...\"\n        ],\n        \"semantic_type\": \"\",\n        \"description\": \"\"\n      }\n    },\n    {\n      \"column\": \"spam\",\n      \"properties\": {\n        \"dtype\": \"number\",\n        \"std\": 0,\n        \"min\": 0,\n        \"max\": 1,\n        \"num_unique_values\": 2,\n        \"samples\": [\n          1,\n          0\n        ],\n        \"semantic_type\": \"\",\n        \"description\": \"\"\n      }\n    }\n  ]\n}"
            }
          },
          "metadata": {},
          "execution_count": 8
        }
      ]
    },
    {
      "cell_type": "markdown",
      "source": [
        "# Data Visualization"
      ],
      "metadata": {
        "id": "5U9h06XMtsGR"
      }
    },
    {
      "cell_type": "markdown",
      "source": [
        "## Distribution of Spam and Ham Messages"
      ],
      "metadata": {
        "id": "vNXv__BGwYdp"
      }
    },
    {
      "cell_type": "code",
      "source": [
        "counts = data['label'].value_counts()\n",
        "plt.figure(figsize=(4, 4))\n",
        "plt.bar(counts.index, counts.values)\n",
        "plt.xlabel('Label')\n",
        "plt.ylabel('Count')\n",
        "plt.title('Distribution of Spam Vs Ham')\n",
        "plt.show()"
      ],
      "metadata": {
        "colab": {
          "base_uri": "https://localhost:8080/",
          "height": 410
        },
        "id": "WmBYAjJ0sdBb",
        "outputId": "a1aff919-34a9-468c-87bf-238abc4fd44a"
      },
      "execution_count": null,
      "outputs": [
        {
          "output_type": "display_data",
          "data": {
            "text/plain": [
              "<Figure size 400x400 with 1 Axes>"
            ],
            "image/png": "[encoded data removed]"
          },
          "metadata": {}
        }
      ]
    },
    {
      "cell_type": "code",
      "source": [
        "print(\"Percentage of Spam Emails:\", round(counts[1] / len(data) * 100, 2), \"%\")\n",
        "print(\"Percentage of Ham Emails:\", round(counts[0] / len(data) * 100, 2), \"%\")"
      ],
      "metadata": {
        "colab": {
          "base_uri": "https://localhost:8080/"
        },
        "id": "0BUnJHZOuC3o",
        "outputId": "e171228c-0768-4652-fc02-81e76a6851d8"
      },
      "execution_count": null,
      "outputs": [
        {
          "output_type": "stream",
          "name": "stdout",
          "text": [
            "Percentage of Spam Emails: 18.88 %\n",
            "Percentage of Ham Emails: 81.12 %\n"
          ]
        }
      ]
    },
    {
      "cell_type": "markdown",
      "source": [
        "## Most Used Words in Spam Messages"
      ],
      "metadata": {
        "id": "e7MqQRKRwe_g"
      }
    },
    {
      "cell_type": "code",
      "source": [
        "spam_messages = data[data['spam'] == 1]['message'].copy()\n",
        "spam_messages"
      ],
      "metadata": {
        "colab": {
          "base_uri": "https://localhost:8080/",
          "height": 458
        },
        "id": "1DPo7b5DvBe_",
        "outputId": "181fd662-ca1d-4ff1-f929-78e01f1c4c34"
      },
      "execution_count": null,
      "outputs": [
        {
          "output_type": "execute_result",
          "data": {
            "text/plain": [
              "7        undelivered mail returned to sender this is th...\n",
              "10       Santa Calling! Would your little ones like a c...\n",
              "14       Someone U know has asked our dating service 2 ...\n",
              "17       how about obtaining a fully recognized univers...\n",
              "27       HOT LIVE FANTASIES call now 08707509020 Just 2...\n",
              "                               ...                        \n",
              "11274    all star break special : get a flag to support...\n",
              "11278    the big unit i ' ve been using your product fo...\n",
              "11288    here ' s a hot play in motion homeland securit...\n",
              "11291    neugierig ? - - - - 870879228701464 content - ...\n",
              "11292    logo , stationer , website design and so much ...\n",
              "Name: message, Length: 2020, dtype: object"
            ],
            "text/html": [
              "<div>\n",
              "<style scoped>\n",
              "    .dataframe tbody tr th:only-of-type {\n",
              "        vertical-align: middle;\n",
              "    }\n",
              "\n",
              "    .dataframe tbody tr th {\n",
              "        vertical-align: top;\n",
              "    }\n",
              "\n",
              "    .dataframe thead th {\n",
              "        text-align: right;\n",
              "    }\n",
              "</style>\n",
              "<table border=\"1\" class=\"dataframe\">\n",
              "  <thead>\n",
              "    <tr style=\"text-align: right;\">\n",
              "      <th></th>\n",
              "      <th>message</th>\n",
              "    </tr>\n",
              "  </thead>\n",
              "  <tbody>\n",
              "    <tr>\n",
              "      <th>7</th>\n",
              "      <td>undelivered mail returned to sender this is th...</td>\n",
              "    </tr>\n",
              "    <tr>\n",
              "      <th>10</th>\n",
              "      <td>Santa Calling! Would your little ones like a c...</td>\n",
              "    </tr>\n",
              "    <tr>\n",
              "      <th>14</th>\n",
              "      <td>Someone U know has asked our dating service 2 ...</td>\n",
              "    </tr>\n",
              "    <tr>\n",
              "      <th>17</th>\n",
              "      <td>how about obtaining a fully recognized univers...</td>\n",
              "    </tr>\n",
              "    <tr>\n",
              "      <th>27</th>\n",
              "      <td>HOT LIVE FANTASIES call now 08707509020 Just 2...</td>\n",
              "    </tr>\n",
              "    <tr>\n",
              "      <th>...</th>\n",
              "      <td>...</td>\n",
              "    </tr>\n",
              "    <tr>\n",
              "      <th>11274</th>\n",
              "      <td>all star break special : get a flag to support...</td>\n",
              "    </tr>\n",
              "    <tr>\n",
              "      <th>11278</th>\n",
              "      <td>the big unit i ' ve been using your product fo...</td>\n",
              "    </tr>\n",
              "    <tr>\n",
              "      <th>11288</th>\n",
              "      <td>here ' s a hot play in motion homeland securit...</td>\n",
              "    </tr>\n",
              "    <tr>\n",
              "      <th>11291</th>\n",
              "      <td>neugierig ? - - - - 870879228701464 content - ...</td>\n",
              "    </tr>\n",
              "    <tr>\n",
              "      <th>11292</th>\n",
              "      <td>logo , stationer , website design and so much ...</td>\n",
              "    </tr>\n",
              "  </tbody>\n",
              "</table>\n",
              "<p>2020 rows × 1 columns</p>\n",
              "</div><br><label><b>dtype:</b> object</label>"
            ]
          },
          "metadata": {},
          "execution_count": 5
        }
      ]
    },
    {
      "cell_type": "code",
      "source": [
        "# Clean Messages\n",
        "def clean_text(text):\n",
        "  text = text.lower().translate(str.maketrans('', '', string.punctuation))\n",
        "  text = re.sub(r'\\b\\w{1,2}\\b', '', text)\n",
        "  text = re.sub(r'\\d+', '', text)\n",
        "  stop_words = list(set(STOPWORDS))\n",
        "  return [word for word in text.split() if word not in stop_words]"
      ],
      "metadata": {
        "id": "mAAhZ_mGw3OT"
      },
      "execution_count": null,
      "outputs": []
    },
    {
      "cell_type": "markdown",
      "source": [
        "**Stop Words**: These are the words that do not add much meaning to a sentence. They can be ignored safely in analyzing a sentence."
      ],
      "metadata": {
        "id": "AWk2upo-hql-"
      }
    },
    {
      "cell_type": "code",
      "source": [
        "all_words = []\n",
        "for msg in spam_messages:\n",
        "  all_words.extend(clean_text(msg))\n",
        "word_counts = Counter(all_words).most_common(30)\n",
        "words, count = zip(*word_counts)"
      ],
      "metadata": {
        "id": "Dnne52_b6urC"
      },
      "execution_count": null,
      "outputs": []
    },
    {
      "cell_type": "code",
      "source": [
        "plt.figure(figsize=(12, 5))\n",
        "plt.plot(words, count, marker = 'o', color = 'r', ms = 4)\n",
        "plt.title(\"Most Frequent Words in Spam Messages (Excluding Stopwords)\")\n",
        "plt.xlabel(\"Words\")\n",
        "plt.ylabel(\"Count\")\n",
        "plt.xticks(rotation = 90)\n",
        "plt.grid(True, linestyle='--', alpha = 0.5)\n",
        "plt.show()"
      ],
      "metadata": {
        "colab": {
          "base_uri": "https://localhost:8080/",
          "height": 553
        },
        "id": "gJKvkw1YzPcv",
        "outputId": "41ab982d-8349-4e30-fe6e-83230c9fbda2"
      },
      "execution_count": null,
      "outputs": [
        {
          "output_type": "display_data",
          "data": {
            "text/plain": [
              "<Figure size 1200x500 with 1 Axes>"
            ],
            "image/png": "[encoded data removed]"
          },
          "metadata": {}
        }
      ]
    },
    {
      "cell_type": "markdown",
      "source": [
        "- The above chart shows the most frequent words used in spam mails."
      ],
      "metadata": {
        "id": "79PxOxBWiOZ2"
      }
    },
    {
      "cell_type": "markdown",
      "source": [
        "# Data Splitting\n",
        "\n",
        "- It is necessary to test the model perfomance.\n",
        "\n",
        "- Split the entire data into Training Data and Testing Data in the ratio 7:3."
      ],
      "metadata": {
        "id": "JzfDZMhb5-Bs"
      }
    },
    {
      "cell_type": "code",
      "source": [
        "def split_data(data, test_size = 0.3, random_seed = None):\n",
        "  if random_seed:\n",
        "    np.random.seed(random_seed)\n",
        "  data = data.to_numpy()\n",
        "  np.random.shuffle(data)\n",
        "  split_index = int(len(data) * (1 - test_size))\n",
        "  return data[:split_index], data[split_index:]\n",
        "\n",
        "data.drop(['label'], axis = 1, inplace = True)\n",
        "train_data, test_data = split_data(data, test_size = 0.3, random_seed = 42)\n",
        "X_train, y_train = train_data[:, 0], train_data[:, 1]\n",
        "X_test, y_test = test_data[:, 0], test_data[:, 1]"
      ],
      "metadata": {
        "id": "5OGi52Ahzvfb"
      },
      "execution_count": null,
      "outputs": []
    },
    {
      "cell_type": "markdown",
      "source": [
        "# Model Evaluation"
      ],
      "metadata": {
        "id": "0JHw-rEr9Bcs"
      }
    },
    {
      "cell_type": "code",
      "source": [
        "def metrics(y_true, y_pred):\n",
        "  cm = np.array(pd.crosstab(y_true, y_pred, rownames = ['Actual'], colnames = ['Predicted']))\n",
        "  accuracy = np.mean(y_true == y_pred)\n",
        "  precision = cm[1, 1] / (cm[1, 1] + cm[0, 1])\n",
        "  recall = cm[1, 1] / (cm[1, 1] + cm[1, 0])\n",
        "  return cm, accuracy, precision, recall\n",
        "\n",
        "def plot_cm(cm):\n",
        "  labels = [0, 1]\n",
        "  print(\"    Confusion Matrix\")\n",
        "  print('='*25)\n",
        "  print(f\"{'Labels |':<10}{labels[0]:<10}{labels[1]:<10}\")\n",
        "  print('-'*25)\n",
        "  print(f\"{'':<2}{labels[0]:<5}{'|':<3}{cm[0,0]:<10}{cm[0,1]:<10}\")\n",
        "  print(f\"{'':<2}{labels[1]:<5}{'|':<3}{cm[1,0]:<10}{cm[1,1]:<10}\")\n",
        "\n",
        "def print_report(train_cm = None, train_apr = None, test_cm = None, test_apr = None, train = True, test = True):\n",
        "  if train:\n",
        "    print(\"\\nTrain Classification Report\")\n",
        "    print('='*55)\n",
        "    print(f\"Accuracy: {train_apr[0]:.4f} | Precision: {train_apr[1]:.4f} | Recall: {train_apr[2]:.4f}\\n\")\n",
        "    plot_cm(train_cm)\n",
        "  if test:\n",
        "    print(\"\\nTest Classification Report\")\n",
        "    print('='*55)\n",
        "    print(f\"Accuracy: {test_apr[0]:.4f} | Precision: {test_apr[1]:.4f} | Recall: {test_apr[2]:.4f}\\n\")\n",
        "    plot_cm(test_cm)\n",
        "\n",
        "def evaluate_model(model, X_train, X_test, y_train, y_test, report = False):\n",
        "  model.fit(X_train, y_train)\n",
        "  y_train_preds = model.predict(X_train)\n",
        "  y_test_preds = model.predict(X_test)\n",
        "  train_cm, a, p, r = metrics(y_train, y_train_preds)\n",
        "  train_apr = [a, p, r]\n",
        "  test_cm, a, p, r = metrics(y_test, y_test_preds)\n",
        "  test_apr = [a, p, r]\n",
        "  if report:\n",
        "    print_report(train_cm, train_apr, test_cm, test_apr)\n",
        "  return train_apr, test_apr"
      ],
      "metadata": {
        "id": "a1-8i3zZ6pwB"
      },
      "execution_count": null,
      "outputs": []
    },
    {
      "cell_type": "markdown",
      "source": [
        "# Model Implementation\n",
        "\n",
        "Few Classification Models are:\n",
        "\n",
        "- Multinomial Naive-Bayes Classifier\n",
        "- Support Vector Classifier\n",
        "- K-Nearest Neighbor Classifier\n",
        "\n"
      ],
      "metadata": {
        "id": "xKXAeEjWCiSE"
      }
    },
    {
      "cell_type": "code",
      "source": [
        "# Utility Function that shows the progress\n",
        "def print_bar(count, total):\n",
        "  percent = int(((count + 1) / total) * 100)\n",
        "  bar = '#' * (percent // 2) + ' ' * (50 - percent // 2)\n",
        "  sys.stdout.write(f'\\r[{bar}] {percent}%')\n",
        "  sys.stdout.flush()"
      ],
      "metadata": {
        "id": "i-P2QlKXXGuH"
      },
      "execution_count": null,
      "outputs": []
    },
    {
      "cell_type": "markdown",
      "source": [
        "## Text Preprocessing\n",
        "\n",
        "Preprocessing includes eliminating unnecessary elements like numbers, short words (single and double letters), and stop words.\n",
        "\n",
        "- *All messages in the training set are preprocessed before being used to train the model.*."
      ],
      "metadata": {
        "id": "aFIdgczJMVoG"
      }
    },
    {
      "cell_type": "markdown",
      "source": [
        "## Multinomial Naive-Bayes Classifier\n",
        "\n",
        "**Model Parameters**: $\\alpha$ - Smoothing Parameter (which helps handle words that have never appeared in the training set)\n",
        "- $\\alpha = 1$: Laplace Smoothing (default)\n",
        "- $\\alpha < 1$: Lidstone Smoothing\n",
        "\n",
        "The key idea behind this classifier is based on Bayes Theorem with the assumption that the features (words) are conditionally independent given the class label.\n",
        "\n",
        "---\n",
        "\n",
        "**Bayes Theorem**\n",
        "\n",
        "It provides a way to calculate posterior probability $P(y = c \\ | \\ X)$ of a class given the words $X$ of the message.\n",
        "\n",
        "$$\n",
        "P(y = c \\ | \\ X) = \\frac{P(X \\ | \\ y = c) P(y = c)}{P(X)}\n",
        "$$\n",
        "\n",
        "where,\n",
        "\n",
        "- $P(X \\ | \\ y = c)$ is the likelihood of observing the words $X$ given class $c$.\n",
        "- $P(y = c)$ is the prior probability of class $c$.\n",
        "- $P(X)$ is the marginal likelihood of observing $X$, which is a constant for all classes in classification task.\n",
        "\n",
        "---\n",
        "\n",
        "**Tables**: In the perspective of Binomial Classification\n",
        "\n",
        "Class: $0$ - Ham Mail, $1$ - Spam Mail\n",
        "\n",
        "Vocabulary is a set of all unique words (after text preprocessing) from the training set.\n",
        "\n",
        "Let $w_1, w_2, ... w_n$ be the words in the vocabulary, $n$ is the size of the vocabulary.\n",
        "\n",
        "$$\n",
        "\\text{Vocabulary} = (w_1, w_2, ... w_n)\n",
        "$$\n",
        "\n",
        "<u>Class Prior Probabilities Table</u> (`class_priors`)\n",
        "\n",
        "| Class | Probability |\n",
        "|:-:|:-:|\n",
        "| $0$ | $P(y = 0)$ |\n",
        "| $1$ | $P(y = 1)$ |\n",
        "\n",
        "- $P(y = 0) = \\frac{\\text{Number of Ham Mails}}{\\text{Total Mails}}, \\ P(y = 1) = \\frac{\\text{Number of Spam Mails}}{\\text{Total Mails}}$\n",
        "\n",
        "<u>Word Occurences Table</u> (`class_word_counts`)\n",
        "\n",
        "| Class/Vocabulary | $w_1$ | $w_2$ | ...... | $w_n$ |\n",
        "|:---:|:---:|:---:|:---:|:---:|\n",
        "| $0$ | $N_{01}$ | $N_{02}$ | ...... | $N_{0n}$ |\n",
        "| $1$ | $N_{11}$ | $N_{12}$ | ...... | $N_{1n}$ |\n",
        "\n",
        "The above tables were filled during the training phase of the model based on the training set.\n",
        "\n",
        "---\n",
        "\n",
        "**Calculation of $P(X \\ | \\ y = c)$**\n",
        "\n",
        "Let $x_1, x_2, .. x_m$ are the words (after text preprocessing) in a message. The vector $X$ denotes the set of all these words.\n",
        "\n",
        "$$\n",
        "P(X \\ | \\ y = c) = P(x_1, x_2, ... x_m \\ | \\ y = c) = \\prod_{i=1}^{m} P(x_i \\ | \\ y = c)\n",
        "$$\n",
        "\n",
        "where,\n",
        "\n",
        "- $P(x_i \\ | \\ y = c)$ is the probability of observing the word $x_i$ given class $c$.\n",
        "\n",
        "---\n",
        "\n",
        "**Word Likelihood $P(x_i \\ | \\ y = c)$**: Multinomial Assumption\n",
        "\n",
        "For a given class $c$, the probability of observing a word $x_i$ is estimated as:\n",
        "\n",
        "If the word $x_i$ in the message is same as the word $w_j$ in vocabulary set,\n",
        "\n",
        "$$\n",
        "P(x_i \\ | \\ y = c) = \\frac{N_{cj} + \\alpha}{N_c + n\\alpha}, \\ N_c = \\sum_{k=1}^{n} N_{ck}\n",
        "$$\n",
        "\n",
        "where,\n",
        "\n",
        "- $N_{cj}$ is the word count of word $w_j$ in class $c$.\n",
        "- $N_c$ is the total word count in class $c$.\n",
        "\n",
        "Thus, the posterior probability $P(y = c \\ | \\ X)$ is proportional to $P(y = c)P(x_1, x_2, ... x_m \\ | \\ y = c)$.\n",
        "\n",
        "---\n",
        "\n",
        "**Prediction**\n",
        "\n",
        "For a given message $M$, the class with the highest posterior probability will be considered as the prediction.\n",
        "\n",
        "if $P(y = 0 \\ | \\ M) > P(y = 1 \\ | \\ M)$: $M$ is classified as Ham; else: $M$ is classified as Spam"
      ],
      "metadata": {
        "id": "HETjDea6D-kK"
      }
    },
    {
      "cell_type": "code",
      "source": [
        "class Multinomial_NB_Classifier:\n",
        "  def __init__(self, alpha = 1):\n",
        "    self.alpha = alpha\n",
        "    self.vocabulary = set()\n",
        "    self.classes = None\n",
        "    self.class_word_counts = defaultdict(lambda: defaultdict(int))\n",
        "    self.class_counts = defaultdict(int)\n",
        "    self.class_priors = defaultdict(float)\n",
        "\n",
        "  def preprocess(self, text):\n",
        "    text = text.lower().translate(str.maketrans('', '', string.punctuation))\n",
        "    text = re.sub(r'\\b\\w{1,2}\\b', '', text)\n",
        "    text = re.sub(r'\\d+', '', text)\n",
        "    stop_words = set(STOPWORDS)\n",
        "    return [word for word in text.split() if word not in stop_words]\n",
        "\n",
        "  def fit(self, X, y):\n",
        "    self.classes, self.class_counts = np.unique(y, return_counts = True)\n",
        "    counter, total = 0, len(y)\n",
        "    print(\"Training...\")\n",
        "    for msg, label in zip(X, y):\n",
        "      print_bar(counter, total)\n",
        "      counter += 1\n",
        "      words = self.preprocess(msg)\n",
        "      for word in words:\n",
        "        self.class_word_counts[label][word] += 1\n",
        "        self.vocabulary.add(word)\n",
        "    print(\"\")\n",
        "    self.class_priors = {c: count / total for c, count in zip(self.classes, self.class_counts)}\n",
        "\n",
        "  def predict(self, X):\n",
        "    preds = []\n",
        "    counter, total = 0, len(X)\n",
        "    print(\"Predicting...\")\n",
        "    vocab_size = len(self.vocabulary)\n",
        "    for msg in X:\n",
        "      print_bar(counter, total)\n",
        "      counter += 1\n",
        "      words = self.preprocess(msg)\n",
        "      class_scores = {}\n",
        "      for c in self.classes:\n",
        "        prob = self.class_priors[c]\n",
        "        total_words = sum(self.class_word_counts[c].values())\n",
        "        for word in words:\n",
        "          word_count = self.class_word_counts[c].get(word, 0)\n",
        "          word_prob = (word_count + self.alpha + 1e-10) / (total_words + vocab_size * self.alpha)\n",
        "          prob *= word_prob\n",
        "        class_scores[c] = prob\n",
        "      preds.append(max(class_scores, key = class_scores.get))\n",
        "    print(\"\")\n",
        "    return np.array(preds)"
      ],
      "metadata": {
        "id": "GJK6zAGABpw8"
      },
      "execution_count": null,
      "outputs": []
    },
    {
      "cell_type": "markdown",
      "source": [
        "## Support Vector Classifier\n",
        "\n",
        "**Model Parameters**: $\\eta$ - Learning Rate, $\\gamma$ - Number of Epochs\n",
        "\n",
        "The implementation is based on a linear classifier that employs a basic version of the Perceptron learning algorithm to adjust its weights and bias through iterative updates during training.\n",
        "\n",
        "Vocabulary is a set of all unique words (after text preprocessing) from the training set.\n",
        "\n",
        "Let $w_1, w_2, ... w_n$ be the words in the vocabulary, $n$ is the size of the vocabulary.\n",
        "\n",
        "$$\n",
        "\\text{Vocabulary} = (w_1, w_2, ... w_n)\n",
        "$$\n",
        "\n",
        "---\n",
        "\n",
        "**Tokenization**\n",
        "\n",
        "Let $X$ be a message with unique words (after text preprocessing) $x_1, x_2, ... x_m$, $f(x_i)$ denotes the frequency of the word $x_i$ in the message $X$.\n",
        "\n",
        "$i_1, i_2, ... i_m$ denotes the corresponding indices of the words $x_1, x_2, ... x_m$ in the vocabulary. $i_k$ for $k = 1, 2, ... m$ is said to be valid if $x_k$ is present in vocabulary.\n",
        "\n",
        "Let $X_{vec}$ be the corresponding transformed vector of the message $X$. The elements in the $X_{vec}$ follows:\n",
        "\n",
        "$$\n",
        "X_{vec}[\\ j\\ ] = \\begin{cases}\n",
        "f(x_k) & \\text{if} \\ i_k \\ \\text{is valid and } x_k = w_j\\\\\n",
        "0 & \\text{otherwise}   \n",
        "\\end{cases};\\ \\text{for} \\ j = 1, 2, ... n\n",
        "$$\n",
        "\n",
        "---\n",
        "\n",
        "**Linear Model**\n",
        "\n",
        "The classifier assigns a weight to each word in the vocabulary, represented by a weight vector:\n",
        "\n",
        "$$\n",
        "\\text{Weight Vector } (W) = (a_1, a_2, ... a_n)^T\n",
        "$$\n",
        "\n",
        "Linear model computes the weighted sum of features plus bias term:\n",
        "\n",
        "$$\n",
        "Z = X_{vec} \\cdot W + b = \\sum_{j=1}^{n} X_{vec}[ \\ j\\ ] \\cdot a_j + b\n",
        "$$\n",
        "\n",
        "where,\n",
        "\n",
        "- $b$ is the bias term.\n",
        "- $Z$ is the linear output of the message $X$.\n",
        "\n",
        "---\n",
        "\n",
        "**Prediction**\n",
        "\n",
        "The predicted label $\\hat{y}$ is determined by the sign of linear output:\n",
        "\n",
        "$$\n",
        "\\hat{y} = \\begin{cases}\n",
        "1 & Z \\geq 0 \\\\\n",
        "0 & Z < 0\n",
        "\\end{cases}\n",
        "$$\n",
        "\n",
        "---\n",
        "\n",
        "**Weights and Bias Update Rule** (During Training)\n",
        "\n",
        "The model updates weights and bias using a simple Perceptron-like update:\n",
        "\n",
        "$$\n",
        "\\text{update } = \\eta \\cdot (y - \\hat{y})\n",
        "$$\n",
        "\n",
        "where,\n",
        "\n",
        "- $y$ is the true label.\n",
        "\n",
        "The weight and bias updates are:\n",
        "\n",
        "$$\n",
        "a_k \\leftarrow a_k + \\text{update} \\cdot x_k \\ ; \\ \\text{for } k = 1, 2, ... n \\\\\n",
        "b \\leftarrow b + \\text{update}\n",
        "$$\n",
        "\n",
        "In simpler terms, if the prediction is correct, nothing changes. If the prediction is wrong, the model adjusts the weights and bias in a way that moves the decision boundary closer to the correct classification."
      ],
      "metadata": {
        "id": "vZebMOAlVosg"
      }
    },
    {
      "cell_type": "code",
      "source": [
        "class Support_Vector_Classifier:\n",
        "  def __init__(self, learning_rate = 0.01, epochs = 1000):\n",
        "    self.weights = None\n",
        "    self.bias = 0\n",
        "    self.lr = learning_rate\n",
        "    self.epochs = epochs\n",
        "    self.vocabulary = None\n",
        "    self.word_to_index = None\n",
        "\n",
        "  def preprocess(self, text):\n",
        "    text = text.lower().translate(str.maketrans('', '', string.punctuation))\n",
        "    text = re.sub(r'\\b\\w{1,2}\\b', '', text)\n",
        "    text = re.sub(r'\\d+', '', text)\n",
        "    stop_words = set(STOPWORDS)\n",
        "    return [word for word in text.split() if word not in stop_words]\n",
        "\n",
        "  def tokenize(self, X):\n",
        "    X_vectorized = np.zeros((len(X), len(self.vocabulary)))\n",
        "    for i, msg in enumerate(X):\n",
        "      for word in self.preprocess(msg):\n",
        "        if word in self.vocabulary:\n",
        "          X_vectorized[i, self.word_to_index[word]] += 1\n",
        "    return X_vectorized\n",
        "\n",
        "  def fit(self, X, y):\n",
        "    self.vocabulary = set(word for msg in X for word in self.preprocess(msg))\n",
        "    self.word_to_index = {word: idx for idx, word in enumerate(self.vocabulary)}\n",
        "    X_vec = self.tokenize(X)\n",
        "    num_samples, num_features = X_vec.shape\n",
        "    self.weights = np.zeros(num_features)\n",
        "    counter =  0\n",
        "    print(\"Training...\")\n",
        "    for _ in range(self.epochs):\n",
        "      print_bar(counter, self.epochs)\n",
        "      counter += 1\n",
        "      for i, x in enumerate(X_vec):\n",
        "        linear_output = x @ self.weights + self.bias\n",
        "        y_pred = 1 if linear_output >= 0 else 0\n",
        "        update = self.lr * (y[i] - y_pred)\n",
        "        self.weights += update * x\n",
        "        self.bias += update\n",
        "    print(\"\")\n",
        "\n",
        "  def predict(self, X):\n",
        "    print(\"Predicting...\")\n",
        "    X_vec = self.tokenize(X)\n",
        "    print_bar(0, 2)\n",
        "    linear_output = X_vec @ self.weights + self.bias\n",
        "    print_bar(1, 2)\n",
        "    print(\"\")\n",
        "    return np.where(linear_output >= 0, 1, 0)"
      ],
      "metadata": {
        "collapsed": true,
        "id": "MzSpyPc0Jypm"
      },
      "execution_count": null,
      "outputs": []
    },
    {
      "cell_type": "markdown",
      "source": [
        "## K-Nearest Neighbor Classifier\n",
        "\n",
        "**Model Parameters**: $k$ - Number of nearest neighbors to determine the output.\n",
        "\n",
        "The KNN classifier predicts the label of a new text sample by finding the\n",
        "$k$ nearest training samples based on Manhattan distance and selecting the most common label among them.\n",
        "\n",
        "---\n",
        "\n",
        "*The terminology related to vocabulary and tokenization are consistent with those described in the Support Vector Classifier*.\n",
        "\n",
        "---\n",
        "\n",
        "**Prediction**\n",
        "\n",
        "Let $N$ be a new message sample, $X$ be the training set.\n",
        "\n",
        "$N_{vec}$ represents the transformed vector of the message $N$, $X_{vec}$ represents the transformed matrix of the training set $X$.\n",
        "\n",
        "$$\n",
        "X_{vec} = \\ (X_1, X_2, ... X_n) \\ ; n \\ \\text{is the number of messages in }X\n",
        "$$\n",
        "\n",
        "where,\n",
        "\n",
        "- $X_i$ is the transformed vector of the $i^{th}$ message in $X$.\n",
        "\n",
        "The model calculates the distances between the vector representation of the new message $N_{vec}$ and all training message vectors $X_i$. It then selects the $k$ closest messages based on these distances. The most common label among these $k$ nearest messages is assigned as the predicted label for the new message $N$."
      ],
      "metadata": {
        "id": "NTt_SBs05_Zs"
      }
    },
    {
      "cell_type": "code",
      "source": [
        "class KNN_Classifier:\n",
        "  def __init__(self, k = 3):\n",
        "    self.k = k\n",
        "    self.vocabulary = None\n",
        "    self.word_to_index = None\n",
        "\n",
        "  def preprocess(self, text):\n",
        "    text = text.lower().translate(str.maketrans('', '', string.punctuation))\n",
        "    text = re.sub(r'\\b\\w{1,2}\\b', '', text)\n",
        "    text = re.sub(r'\\d+', '', text)\n",
        "    stop_words = set(STOPWORDS)\n",
        "    return [word for word in text.split() if word not in stop_words]\n",
        "\n",
        "  def tokenize(self, X):\n",
        "    X_vectorized = np.zeros((len(X), len(self.vocabulary)))\n",
        "    for i, msg in enumerate(X):\n",
        "      for word in self.preprocess(msg):\n",
        "        if word in self.vocabulary:\n",
        "          X_vectorized[i, self.word_to_index[word]] += 1\n",
        "    return X_vectorized\n",
        "\n",
        "  def distance(self, p1, p2):\n",
        "    return np.sum(np.abs(p1 - p2))\n",
        "\n",
        "  def fit(self, X, y):\n",
        "    print(\"Training...\")\n",
        "    self.vocabulary = set(word for msg in X for word in self.preprocess(msg))\n",
        "    print_bar(0, 4)\n",
        "    self.word_to_index = {word: idx for idx, word in enumerate(self.vocabulary)}\n",
        "    print_bar(1, 4)\n",
        "    self.X_train = self.tokenize(X)\n",
        "    print_bar(2, 4)\n",
        "    self.y_train = np.array(y).astype(int)\n",
        "    print_bar(3, 4)\n",
        "    print(\"\")\n",
        "\n",
        "  def predict(self, X):\n",
        "    X_vec = self.tokenize(X)\n",
        "    preds = []\n",
        "    counter, total = 0, len(X)\n",
        "    print(\"Predicting...\")\n",
        "    for x in X_vec:\n",
        "      print_bar(counter, total)\n",
        "      counter += 1\n",
        "      dists = [self.distance(x, x_train) for x_train in self.X_train]\n",
        "      top_k_indices = np.argsort(dists)[:self.k]\n",
        "      k_nearest = self.y_train[top_k_indices]\n",
        "      most_common = np.bincount(k_nearest).argmax()\n",
        "      preds.append(most_common)\n",
        "    print(\"\")\n",
        "    return np.array(preds)"
      ],
      "metadata": {
        "id": "jQs0nRgJzSPk"
      },
      "execution_count": null,
      "outputs": []
    },
    {
      "cell_type": "markdown",
      "source": [
        "# Model Testing"
      ],
      "metadata": {
        "id": "cRsBIsJlYXjm"
      }
    },
    {
      "cell_type": "code",
      "source": [
        "m1_accuracies, m1_precisions, m1_recalls = [[], []], [[], []], [[], []]\n",
        "alphas = [0, 0.25, 0.5, 0.75, 1]\n",
        "for alpha in alphas:\n",
        "  train_apr, test_apr = evaluate_model(Multinomial_NB_Classifier(alpha = alpha), X_train, X_test, y_train, y_test)\n",
        "  m1_accuracies[0].append(train_apr[0]), m1_accuracies[1].append(test_apr[0])\n",
        "  m1_precisions[0].append(train_apr[1]), m1_precisions[1].append(test_apr[1])\n",
        "  m1_recalls[0].append(train_apr[2]), m1_recalls[1].append(test_apr[2])"
      ],
      "metadata": {
        "colab": {
          "base_uri": "https://localhost:8080/"
        },
        "id": "7iTDOfYnYXG7",
        "outputId": "c625af7d-4db7-4820-fabe-d668f2fc67a9"
      },
      "execution_count": null,
      "outputs": [
        {
          "output_type": "stream",
          "name": "stdout",
          "text": [
            "Training...\n",
            "[##################################################] 100%\n",
            "Predicting...\n",
            "[##################################################] 100%\n",
            "Predicting...\n",
            "[##################################################] 100%\n",
            "Training...\n",
            "[##################################################] 100%\n",
            "Predicting...\n",
            "[##################################################] 100%\n",
            "Predicting...\n",
            "[##################################################] 100%\n",
            "Training...\n",
            "[##################################################] 100%\n",
            "Predicting...\n",
            "[##################################################] 100%\n",
            "Predicting...\n",
            "[##################################################] 100%\n",
            "Training...\n",
            "[##################################################] 100%\n",
            "Predicting...\n",
            "[##################################################] 100%\n",
            "Predicting...\n",
            "[##################################################] 100%\n",
            "Training...\n",
            "[##################################################] 100%\n",
            "Predicting...\n",
            "[##################################################] 100%\n",
            "Predicting...\n",
            "[##################################################] 100%\n"
          ]
        }
      ]
    },
    {
      "cell_type": "code",
      "source": [
        "%matplotlib inline\n",
        "\n",
        "plt.figure(figsize = (12, 3))\n",
        "plt.subplot(1, 3, 1)\n",
        "plt.plot(alphas, m1_accuracies[0], label = 'Train Accuracy', color = 'r')\n",
        "plt.plot(alphas, m1_accuracies[1], label = 'Test Accuracy', color = 'g')\n",
        "plt.xlabel(r\"$\\alpha$\")\n",
        "plt.legend()\n",
        "plt.subplot(1, 3, 2)\n",
        "plt.plot(alphas, m1_precisions[0], label = 'Train Precision', color = 'r')\n",
        "plt.plot(alphas, m1_precisions[1], label = 'Test Precision', color = 'g')\n",
        "plt.xlabel(r\"$\\alpha$\")\n",
        "plt.legend()\n",
        "plt.subplot(1, 3, 3)\n",
        "plt.plot(alphas, m1_recalls[0], label = 'Train Recall', color = 'r')\n",
        "plt.plot(alphas, m1_recalls[1], label = 'Test Recall', color = 'g')\n",
        "plt.xlabel(r\"$\\alpha$\")\n",
        "plt.legend()\n",
        "plt.show()"
      ],
      "metadata": {
        "colab": {
          "base_uri": "https://localhost:8080/",
          "height": 315
        },
        "id": "NcwRWjz6Obmu",
        "outputId": "127f8cea-67d3-454b-9b9e-fe84b8945965"
      },
      "execution_count": null,
      "outputs": [
        {
          "output_type": "display_data",
          "data": {
            "text/plain": [
              "<Figure size 1200x300 with 3 Axes>"
            ],
            "image/png": "[encoded data removed]"
          },
          "metadata": {}
        }
      ]
    },
    {
      "cell_type": "markdown",
      "source": [
        "> Based on the results, $\\alpha$ values of 0.25 and 1 are appropriate smoothing parameters for prediction."
      ],
      "metadata": {
        "id": "QYGOzr2KX6Ho"
      }
    },
    {
      "cell_type": "code",
      "source": [
        "m2_accuracies, m2_precisions, m2_recalls = [[], []], [[], []], [[], []]\n",
        "lrs = [0.025, 0.05, 0.1]\n",
        "for lr in lrs:\n",
        "  train_apr, test_apr = evaluate_model(Support_Vector_Classifier(learning_rate = lr, epochs = 500), X_train, X_test, y_train, y_test)\n",
        "  m2_accuracies[0].append(train_apr[0]), m2_accuracies[1].append(test_apr[0])\n",
        "  m2_precisions[0].append(train_apr[1]), m2_precisions[1].append(test_apr[1])\n",
        "  m2_recalls[0].append(train_apr[2]), m2_recalls[1].append(test_apr[2])"
      ],
      "metadata": {
        "colab": {
          "base_uri": "https://localhost:8080/"
        },
        "id": "jZkkhR0xYhi-",
        "outputId": "26cb12ff-e1a5-4883-cc64-6770a62b21c9"
      },
      "execution_count": null,
      "outputs": [
        {
          "output_type": "stream",
          "name": "stdout",
          "text": [
            "Training...\n",
            "[##################################################] 100%\n",
            "Predicting...\n",
            "[##################################################] 100%\n",
            "Predicting...\n",
            "[##################################################] 100%\n",
            "Training...\n",
            "[##################################################] 100%\n",
            "Predicting...\n",
            "[##################################################] 100%\n",
            "Predicting...\n",
            "[##################################################] 100%\n",
            "Training...\n",
            "[##################################################] 100%\n",
            "Predicting...\n",
            "[##################################################] 100%\n",
            "Predicting...\n",
            "[##################################################] 100%\n"
          ]
        }
      ]
    },
    {
      "cell_type": "code",
      "source": [
        "%matplotlib inline\n",
        "\n",
        "plt.figure(figsize = (12, 3))\n",
        "plt.subplot(1, 3, 1)\n",
        "plt.plot(lrs, m2_accuracies[0], label = 'Train Accuracy', color = 'r')\n",
        "plt.plot(lrs, m2_accuracies[1], label = 'Test Accuracy', color = 'g')\n",
        "plt.xlabel(r\"$\\eta$\")\n",
        "plt.legend()\n",
        "plt.subplot(1, 3, 2)\n",
        "plt.plot(lrs, m2_precisions[0], label = 'Train Precision', color = 'r')\n",
        "plt.plot(lrs, m2_precisions[1], label = 'Test Precision', color = 'g')\n",
        "plt.xlabel(r\"$\\eta$\")\n",
        "plt.legend()\n",
        "plt.subplot(1, 3, 3)\n",
        "plt.plot(lrs, m2_recalls[0], label = 'Train Recall', color = 'r')\n",
        "plt.plot(lrs, m2_recalls[1], label = 'Test Recall', color = 'g')\n",
        "plt.xlabel(r\"$\\eta$\")\n",
        "plt.legend()\n",
        "plt.show()"
      ],
      "metadata": {
        "colab": {
          "base_uri": "https://localhost:8080/",
          "height": 312
        },
        "id": "tmCLCpmaZq3i",
        "outputId": "51655d97-826a-4742-df09-a0e0895f65de"
      },
      "execution_count": null,
      "outputs": [
        {
          "output_type": "display_data",
          "data": {
            "text/plain": [
              "<Figure size 1200x300 with 3 Axes>"
            ],
            "image/png": "[encoded data removed]"
          },
          "metadata": {}
        }
      ]
    },
    {
      "cell_type": "markdown",
      "source": [
        "> The metrics remain unchanged for different values of $\\eta$, so we will use $\\eta = 0.05$ for making predictions."
      ],
      "metadata": {
        "id": "DA4zOBZ8eocN"
      }
    },
    {
      "cell_type": "code",
      "source": [
        "m3_accuracies, m3_precisions, m3_recalls = [[], []], [[], []], [[], []]\n",
        "ks = [1, 3, 5, 7]\n",
        "\n",
        "# Since KNN is a lazy model, therefore, split the datasets in certain ratio\n",
        "split_ratio = 5\n",
        "for k in ks:\n",
        "  train_apr, test_apr = evaluate_model(KNN_Classifier(k = k), X_train[::split_ratio], X_test[::4], y_train[::split_ratio], y_test[::4])\n",
        "  m3_accuracies[0].append(train_apr[0]), m3_accuracies[1].append(test_apr[0])\n",
        "  m3_precisions[0].append(train_apr[1]), m3_precisions[1].append(test_apr[1])\n",
        "  m3_recalls[0].append(train_apr[2]), m3_recalls[1].append(test_apr[2])"
      ],
      "metadata": {
        "id": "F5HPhzmt-6bV",
        "colab": {
          "base_uri": "https://localhost:8080/"
        },
        "outputId": "2b8493cd-a10b-467c-910b-3934946318d8"
      },
      "execution_count": null,
      "outputs": [
        {
          "output_type": "stream",
          "name": "stdout",
          "text": [
            "Training...\n",
            "[##################################################] 100%\n",
            "Predicting...\n",
            "[##################################################] 100%\n",
            "Predicting...\n",
            "[##################################################] 100%\n",
            "Training...\n",
            "[##################################################] 100%\n",
            "Predicting...\n",
            "[##################################################] 100%\n",
            "Predicting...\n",
            "[##################################################] 100%\n",
            "Training...\n",
            "[##################################################] 100%\n",
            "Predicting...\n",
            "[##################################################] 100%\n",
            "Predicting...\n",
            "[##################################################] 100%\n",
            "Training...\n",
            "[##################################################] 100%\n",
            "Predicting...\n",
            "[##################################################] 100%\n",
            "Predicting...\n",
            "[##################################################] 100%\n"
          ]
        }
      ]
    },
    {
      "cell_type": "code",
      "source": [
        "%matplotlib inline\n",
        "\n",
        "plt.figure(figsize = (12, 3))\n",
        "plt.subplot(1, 3, 1)\n",
        "plt.plot(ks, m3_accuracies[0], label = 'Train Accuracy', color = 'r')\n",
        "plt.plot(ks, m3_accuracies[1], label = 'Test Accuracy', color = 'g')\n",
        "plt.xlabel(r\"$k$\")\n",
        "plt.legend()\n",
        "plt.subplot(1, 3, 2)\n",
        "plt.plot(ks, m3_precisions[0], label = 'Train Precision', color = 'r')\n",
        "plt.plot(ks, m3_precisions[1], label = 'Test Precision', color = 'g')\n",
        "plt.xlabel(r\"$k$\")\n",
        "plt.legend()\n",
        "plt.subplot(1, 3, 3)\n",
        "plt.plot(ks, m3_recalls[0], label = 'Train Recall', color = 'r')\n",
        "plt.plot(ks, m3_recalls[1], label = 'Test Recall', color = 'g')\n",
        "plt.xlabel(r\"$k$\")\n",
        "plt.legend()\n",
        "plt.show()"
      ],
      "metadata": {
        "colab": {
          "base_uri": "https://localhost:8080/",
          "height": 312
        },
        "id": "qBJW4DOmGpfR",
        "outputId": "d16b3c94-9de6-405e-d2d0-fc93e2e4fb2b"
      },
      "execution_count": null,
      "outputs": [
        {
          "output_type": "display_data",
          "data": {
            "text/plain": [
              "<Figure size 1200x300 with 3 Axes>"
            ],
            "image/png": "[encoded data removed]"
          },
          "metadata": {}
        }
      ]
    },
    {
      "cell_type": "markdown",
      "source": [
        "> Based on results, $k = 3$ would be more suitable for making predictions."
      ],
      "metadata": {
        "id": "M0AOUuBQaIM1"
      }
    },
    {
      "cell_type": "markdown",
      "source": [
        "# Model Selection and Training\n",
        "\n",
        "According to the model testing results, the **Support Vector Classifier** is the most effective for classifying spam mails, though using a combination of all models could also be considered.\n",
        "\n",
        "For training the model, use the entire `training_data`."
      ],
      "metadata": {
        "id": "NymIbt0dlk9P"
      }
    },
    {
      "cell_type": "code",
      "source": [
        "model1 = Multinomial_NB_Classifier(alpha = 0.25)\n",
        "model2 = Support_Vector_Classifier(learning_rate = 0.05, epochs = 500)\n",
        "model3 = KNN_Classifier(k = 3)\n",
        "models = [model1, model2, model3]"
      ],
      "metadata": {
        "collapsed": true,
        "id": "Kjb3jdaGjLF3"
      },
      "execution_count": null,
      "outputs": []
    },
    {
      "cell_type": "code",
      "source": [
        "X_train, y_train = data['message'].to_list(), data['spam'].to_list()\n",
        "for model in models:\n",
        "  print(f\"Training {model.__class__.__name__}...\")\n",
        "  model.fit(X_train, y_train)\n",
        "  print(\"\")"
      ],
      "metadata": {
        "colab": {
          "base_uri": "https://localhost:8080/"
        },
        "id": "7qlCvT5sbGbj",
        "outputId": "43143478-179a-4675-de81-85a20fe3cb51"
      },
      "execution_count": null,
      "outputs": [
        {
          "output_type": "stream",
          "name": "stdout",
          "text": [
            "Training Multinomial_NB_Classifier...\n",
            "Training...\n",
            "[##################################################] 100%\n",
            "\n",
            "Training Support_Vector_Classifier...\n",
            "Training...\n",
            "[##################################################] 100%\n",
            "\n",
            "Training KNN_Classifier...\n",
            "Training...\n",
            "[##################################################] 100%\n",
            "\n"
          ]
        }
      ]
    },
    {
      "cell_type": "markdown",
      "source": [
        "# Email Spam Detection System"
      ],
      "metadata": {
        "id": "JVEplrb-nb_o"
      }
    },
    {
      "cell_type": "code",
      "source": [
        "def detect_if_spam(model, emails):\n",
        "  return model.predict(emails)"
      ],
      "metadata": {
        "id": "e6CkR_gWmq8y"
      },
      "execution_count": null,
      "outputs": []
    },
    {
      "cell_type": "markdown",
      "source": [
        "# Example Usage"
      ],
      "metadata": {
        "id": "_WtRlCbWoIq3"
      }
    },
    {
      "cell_type": "code",
      "source": [
        "sample_text1 = '''\n",
        "Congratulations! You’ve Won a Free Gift Card!\n",
        "\n",
        "Dear User,\n",
        "\n",
        "You have been selected as our lucky winner! You’ve won a $1000 Amazon Gift Card. To claim your prize, simply click the link below and provide your details:\n",
        "\n",
        "Claim Your Reward Now\n",
        "\n",
        "Hurry! This offer is valid for the next 24 hours only.\n",
        "'''"
      ],
      "metadata": {
        "id": "-Qrj-Y1vAJzs"
      },
      "execution_count": null,
      "outputs": []
    },
    {
      "cell_type": "code",
      "source": [
        "m1_pred = model1.predict([sample_text1])\n",
        "m2_pred = model2.predict([sample_text1])\n",
        "m3_pred = model3.predict([sample_text1])"
      ],
      "metadata": {
        "colab": {
          "base_uri": "https://localhost:8080/"
        },
        "id": "tTESoayceYdO",
        "outputId": "9d84d687-5098-4a35-b204-d3a9cbe5b0ff"
      },
      "execution_count": null,
      "outputs": [
        {
          "output_type": "stream",
          "name": "stdout",
          "text": [
            "Predicting...\n",
            "[##################################################] 100%\n",
            "Predicting...\n",
            "[##################################################] 100%\n",
            "Predicting...\n",
            "[##################################################] 100%\n"
          ]
        }
      ]
    },
    {
      "cell_type": "code",
      "source": [
        "print(m1_pred, m2_pred, m3_pred)"
      ],
      "metadata": {
        "colab": {
          "base_uri": "https://localhost:8080/"
        },
        "id": "zhDPJtlleeIR",
        "outputId": "b0d500ca-e9da-471f-a656-878f5a9ff45a"
      },
      "execution_count": null,
      "outputs": [
        {
          "output_type": "stream",
          "name": "stdout",
          "text": [
            "[1] [1] [0]\n"
          ]
        }
      ]
    },
    {
      "cell_type": "markdown",
      "source": [
        "According to the Support Vector Classifier and the combined predictions from all models, the example above is classified as a **Spam Mail**."
      ],
      "metadata": {
        "id": "rJlGpyphepG_"
      }
    },
    {
      "cell_type": "code",
      "source": [
        "sample_text2 = '''\n",
        "Meeting Reminder: Project Update\n",
        "\n",
        "Hi Team,\n",
        "\n",
        "This is a reminder about the project update meeting scheduled for Monday, 10:00 AM in Conference Room A. Please come prepared with your progress reports and any pending action items.\n",
        "\n",
        "Let me know if you have any conflicts or need additional time for your presentations.\n",
        "\n",
        "Looking forward to seeing everyone there!\n",
        "'''"
      ],
      "metadata": {
        "id": "Ex-3TZikeh37"
      },
      "execution_count": null,
      "outputs": []
    },
    {
      "cell_type": "code",
      "source": [
        "m1_pred = model1.predict([sample_text2])\n",
        "m2_pred = model2.predict([sample_text2])\n",
        "m3_pred = model3.predict([sample_text2])"
      ],
      "metadata": {
        "colab": {
          "base_uri": "https://localhost:8080/"
        },
        "id": "NBaGwKBUfFol",
        "outputId": "e14f3e66-64af-46cd-9fef-96f6f91a5611"
      },
      "execution_count": null,
      "outputs": [
        {
          "output_type": "stream",
          "name": "stdout",
          "text": [
            "Predicting...\n",
            "[##################################################] 100%\n",
            "Predicting...\n",
            "[##################################################] 100%\n",
            "Predicting...\n",
            "[##################################################] 100%\n"
          ]
        }
      ]
    },
    {
      "cell_type": "code",
      "source": [
        "print(m1_pred, m2_pred, m3_pred)"
      ],
      "metadata": {
        "colab": {
          "base_uri": "https://localhost:8080/"
        },
        "id": "XEkFq1LefH4T",
        "outputId": "68e506ba-f7d8-43e5-ca9a-9df8dbea4399"
      },
      "execution_count": null,
      "outputs": [
        {
          "output_type": "stream",
          "name": "stdout",
          "text": [
            "[0] [0] [0]\n"
          ]
        }
      ]
    },
    {
      "cell_type": "markdown",
      "source": [
        "All the models have predicted it as a **Ham Mail**.\n",
        "\n",
        "---"
      ],
      "metadata": {
        "id": "rCVNdVnefPix"
      }
    }
  ]
}